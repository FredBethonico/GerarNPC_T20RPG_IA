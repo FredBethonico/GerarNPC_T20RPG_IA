{
  "nbformat": 4,
  "nbformat_minor": 0,
  "metadata": {
    "colab": {
      "provenance": [],
      "authorship_tag": "ABX9TyOO3T9sNi3WtIA9HOdnGj2l",
      "include_colab_link": true
    },
    "kernelspec": {
      "name": "python3",
      "display_name": "Python 3"
    },
    "language_info": {
      "name": "python"
    }
  },
  "cells": [
    {
      "cell_type": "markdown",
      "metadata": {
        "id": "view-in-github",
        "colab_type": "text"
      },
      "source": [
        "<a href=\"https://colab.research.google.com/github/FredBethonico/GerarNPC_T20RPG_IA/blob/sqlite-atributesDB/GerarNPC_IA_v2.ipynb\" target=\"_parent\"><img src=\"https://colab.research.google.com/assets/colab-badge.svg\" alt=\"Open In Colab\"/></a>"
      ]
    },
    {
      "cell_type": "markdown",
      "source": [
        "# Gerar NPC aleatório\n",
        "\n",
        "Aplicação para auxiliar mestres de RPG do sistema Tormenta20 a criarem NPCs de forma aleatória e rápida.\n",
        "\n",
        "Neste código, utiliza-se IA para gerar uma pequena apresentação contextualizada no mundo de Arton e em primeira pessoa do NPC recém gerado.\n",
        "\n",
        "*Observação: Esse código está sendo escrito e aprimorado a medida que estudo Python. Comecei há poucos meses e sempre que aprendo algo novo que possa se encaixar neste projeto, faço a implementação, como fiz agora com a API do Gemini.*"
      ],
      "metadata": {
        "id": "s5WeJDCsuBFH"
      }
    },
    {
      "cell_type": "markdown",
      "source": [
        "\n",
        "### Listas dos atributos\n",
        "\n",
        "Raças, Classes e Origens retiradas dos livros:\n",
        "- Tormenta 20\n",
        "- Ameaças de Arton\n",
        "\n",
        "*Material original da Editora Jambô, reproduzido parcialmente para fins de entretenimento e sem nenhum interesse lucrativo.*"
      ],
      "metadata": {
        "id": "Hh9Ul3bG7v1R"
      }
    },
    {
      "cell_type": "markdown",
      "source": [
        "### Main\n",
        "\n",
        "Parte central do código.\n",
        "A ideia de fazer este código orientado a objetos é de que poderei implementar outras funcionalidades próprias de jogos de RPG no futuro reutilizando esse mesmo trecho de código."
      ],
      "metadata": {
        "id": "rtYiMKG17_ka"
      }
    },
    {
      "cell_type": "code",
      "source": [
        "# Pacotes importados\n",
        "\n",
        "import random\n",
        "import textwrap\n",
        "import sqlite3 as sql"
      ],
      "metadata": {
        "id": "0QVTBvqHCCaF"
      },
      "execution_count": 116,
      "outputs": []
    },
    {
      "cell_type": "code",
      "source": [
        "con = sql.connect(\"pools.db\")\n",
        "cur = con.cursor()"
      ],
      "metadata": {
        "id": "wlcXf06qmr26"
      },
      "execution_count": 117,
      "outputs": []
    },
    {
      "cell_type": "code",
      "source": [
        "# Funções utilitárias\n",
        "\n",
        "aleatorio = lambda pool: random.randint(0,(len(pool)-1))\n",
        "\n",
        "def select (stringtabela):\n",
        "  ''' Gerar consulta do banco de dados. Parâmetro: string com o nome da tabela. Retorno: lista com os valores da tabela. '''\n",
        "  query = \"SELECT * FROM \" + stringtabela\n",
        "  dados = cur.execute(query).fetchall()\n",
        "  return [i[0] for i in dados] # `list comprehension` para transformar os dados em lista de strings\n",
        "\n",
        "def aleatorizar (atributo):\n",
        "  ''' Parâmetro: uma lista. Retorno: Elemento aleatório da lista. '''\n",
        "  return atributo[aleatorio(atributo)]\n"
      ],
      "metadata": {
        "id": "Pl9DIIozB6Im"
      },
      "execution_count": 132,
      "outputs": []
    },
    {
      "cell_type": "code",
      "source": [
        "# Armazenar dados das tabelas, como strings, em variáveis\n",
        "\n",
        "# Nomes\n",
        "nomesM = select(\"nomesM\")\n",
        "nomesF = select(\"nomesF\")\n",
        "sobrenomes = select(\"sobrenomes\")\n",
        "apelidosM = select(\"apelidosM\")\n",
        "apelidosF = select(\"apelidosF\")\n",
        "\n",
        "# Raças\n",
        "racasM = select(\"racasM\")\n",
        "racasF = select(\"racasF\")\n",
        "\n",
        "# Sub-raças\n",
        "golem_chassi = select(\"golem_chassi\")\n",
        "golem_energia = select(\"golem_energia\")\n",
        "subraca_osteon = select(\"subraca_osteon\")\n",
        "subraca_suraggel = select(\"subraca_suraggel\")\n",
        "subraca_trog = select(\"subraca_trog\")\n",
        "subraca_trovao = select(\"subraca_trovao\")\n",
        "subraca_moreau = select(\"subraca_moreau\")\n",
        "\n",
        "# Classes\n",
        "classesM = select(\"classesM\")\n",
        "classesF = select(\"classesF\")\n",
        "\n",
        "# Origens\n",
        "origensM = select(\"origensM\")\n",
        "origensF = select(\"origensF\")\n",
        "\n",
        "# Divindades\n",
        "divindades = select(\"divindades\")"
      ],
      "metadata": {
        "id": "eKXIqfq2meBk"
      },
      "execution_count": 133,
      "outputs": []
    },
    {
      "cell_type": "code",
      "source": [
        "# Função das sub-raças\n",
        "\n",
        "def gerarSubRaca(raca):\n",
        "  if raca == \"Golem\":\n",
        "    raca1 = aleatorizar(golem_chassi)\n",
        "    raca2 = aleatorizar(golem_energia)\n",
        "    raca = raca + \" de \" + raca1 + \" energizado por \" + raca2\n",
        "  elif raca == \"Osteon\":\n",
        "    raca = aleatorizar(subraca_osteon)\n",
        "  elif raca == \"Suraggel\":\n",
        "    raca = aleatorizar(subraca_suraggel)\n",
        "  elif raca == \"Trog\":\n",
        "    raca = aleatorizar(subraca_trog)\n",
        "  elif raca == \"Povo Trovão\":\n",
        "    raca = aleatorizar(subraca_trovao)\n",
        "  elif raca == \"Moreau\":\n",
        "    raca = aleatorizar(subraca_moreau)\n",
        "  return raca"
      ],
      "metadata": {
        "id": "arDyzxweTMVu"
      },
      "execution_count": 120,
      "outputs": []
    },
    {
      "cell_type": "code",
      "source": [
        "# Classe NPC\n",
        "\n",
        "class NPC():\n",
        "  def __init__(self, nome, sobrenome, apelido, raca, classe, origem, divindade, genero):\n",
        "    self.nome = nome\n",
        "    self.sobrenome = sobrenome\n",
        "    self.apelido = apelido\n",
        "    self.raca = raca\n",
        "    self.classe = classe\n",
        "    self.origem = origem\n",
        "    self.divindade = divindade\n",
        "    self.genero = genero\n",
        "  def GerarNPC(self, genero):\n",
        "    ficha_npc = \"\"\n",
        "    if genero == \"M\":\n",
        "      self.nome = aleatorizar(nomesM)\n",
        "      self.sobrenome = aleatorizar(sobrenomes)\n",
        "      self.apelido = aleatorizar(apelidosM)\n",
        "      self.raca = aleatorizar(racasM)\n",
        "      self.raca = gerarSubRaca(self.raca)\n",
        "      self.classe = aleatorizar(classesM)\n",
        "      self.origem = aleatorizar(origensM)\n",
        "      self.divindade = aleatorizar(divindades)\n",
        "      self.genero = \"M\"\n",
        "    elif genero == \"F\":\n",
        "      self.nome = aleatorizar(nomesF)\n",
        "      self.sobrenome = aleatorizar(sobrenomes)\n",
        "      self.apelido = aleatorizar(apelidosF)\n",
        "      self.raca = aleatorizar(racasF)\n",
        "      self.raca = gerarSubRaca(self.raca)\n",
        "      self.classe = aleatorizar(classesF)\n",
        "      self.origem = aleatorizar(origensF)\n",
        "      self.divindade = aleatorizar(divindades)\n",
        "      self.genero = \"F\"\n",
        "    else:\n",
        "      print(\"Favor entrar com o parâmetro 'F' para geração de nome feminino, ou 'M' para nome masculino.\")\n",
        "  def verFicha(self):\n",
        "    if self.genero == \"M\":\n",
        "      return f'{self.nome} {self.sobrenome} {self.apelido}\\n {self.raca}\\n Classe: {self.classe}\\n Origem: {self.origem}\\n Devoto de {self.divindade}'\n",
        "    elif self.genero == \"F\":\n",
        "      return f'{self.nome} {self.sobrenome} {self.apelido}\\n {self.raca}\\n Classe: {self.classe}\\n Origem: {self.origem}\\n Devota de {self.divindade}'\n"
      ],
      "metadata": {
        "id": "9S2pRCml7OeV"
      },
      "execution_count": 121,
      "outputs": []
    },
    {
      "cell_type": "code",
      "source": [
        "# Função para criar um NPC\n",
        "\n",
        "def novoNPC(genero):\n",
        "    npc = NPC(\"\",\"\",\"\",\"\",\"\",\"\",\"\",\"\")\n",
        "    npc.GerarNPC(genero)\n",
        "    return npc\n",
        "\n",
        "def promptNPC(npc):\n",
        "  prompt = \"\"\n",
        "  prompt = npc.verFicha()\n",
        "  return prompt\n"
      ],
      "metadata": {
        "id": "tWoOTd2_DUeV"
      },
      "execution_count": 122,
      "outputs": []
    },
    {
      "cell_type": "markdown",
      "source": [
        "### Resultado inicial da aplicação de Gerar NPC\n",
        "\n",
        "A princípio o programa intencionava apenas gerar o objeto NPC e exibí-lo no console de forma organizada.\n",
        "Agora transformei o resultado em uma string contínua para entrar como um comando no modelo IA."
      ],
      "metadata": {
        "id": "_t29S1tnw7I7"
      }
    },
    {
      "cell_type": "markdown",
      "source": [],
      "metadata": {
        "id": "_AGTt9YyghB7"
      }
    },
    {
      "cell_type": "code",
      "source": [
        "# Gerar NPCs\n",
        "\n",
        "npcTeste = novoNPC(\"F\")\n",
        "promptNPC(npcTeste)"
      ],
      "metadata": {
        "id": "AfATHTJqC74w",
        "colab": {
          "base_uri": "https://localhost:8080/",
          "height": 53
        },
        "outputId": "1e20facd-3eef-44b6-879c-455f099a6eae"
      },
      "execution_count": 134,
      "outputs": [
        {
          "output_type": "execute_result",
          "data": {
            "text/plain": [
              "'Lucrécia Yuuta A cega\\n Golem de Bronze energizado por Elemental de Terra\\n Classe: Bucaneira\\n Origem: Mateira\\n Devota de Tanna-Toh'"
            ],
            "application/vnd.google.colaboratory.intrinsic+json": {
              "type": "string"
            }
          },
          "metadata": {},
          "execution_count": 134
        }
      ]
    },
    {
      "cell_type": "markdown",
      "source": [
        "### Implementação da IA\n",
        "\n",
        "Este trecho do código foi desenvolvido durante a Imersão IA 2ª Edição, da Alura!\n",
        "\n",
        "Também utilizei a documentação disponibilizada pela Google e contei com o apoio do próprio Gemini para corrigir alguns bugs e tirar dúvidas sobre a implementação e uso da API.\n",
        "\n",
        "UPDATE: Troquei o formato de geração do modelo. Ao invés de utilizar o *'chat'*, agora estou utilizando *'generate content'*. Percebi que torna a aplicação mais simples, rápida e confiável.\n",
        "Portanto o modelo não retém histórico do que já criou, ele sempre se baseia nas instruções de contexto fornecidas."
      ],
      "metadata": {
        "id": "uQ6CU64iY53L"
      }
    },
    {
      "cell_type": "code",
      "source": [
        "# Instalação\n",
        "\n",
        "!pip install -q -U google-generativeai"
      ],
      "metadata": {
        "id": "9AuVIBUfZBy2",
        "colab": {
          "base_uri": "https://localhost:8080/"
        },
        "outputId": "160cd1f8-d6b7-4695-ce4d-d0fa8801171b"
      },
      "execution_count": 136,
      "outputs": [
        {
          "output_type": "stream",
          "name": "stdout",
          "text": [
            "\u001b[2K     \u001b[90m━━━━━━━━━━━━━━━━━━━━━━━━━━━━━━━━━━━━━━━━\u001b[0m \u001b[32m163.1/163.1 kB\u001b[0m \u001b[31m3.9 MB/s\u001b[0m eta \u001b[36m0:00:00\u001b[0m\n",
            "\u001b[2K     \u001b[90m━━━━━━━━━━━━━━━━━━━━━━━━━━━━━━━━━━━━━━━━\u001b[0m \u001b[32m717.3/717.3 kB\u001b[0m \u001b[31m8.4 MB/s\u001b[0m eta \u001b[36m0:00:00\u001b[0m\n",
            "\u001b[?25h"
          ]
        }
      ]
    },
    {
      "cell_type": "code",
      "source": [
        "# Importação e configuração do modelo\n",
        "# Escolhas de configuração e segurança copiei do AI Studio, de quando simulei essa ideia por lá\n",
        "\n",
        "import google.generativeai as genai\n",
        "from google.colab import userdata\n",
        "api_key = userdata.get(\"SECRET_KEY\")\n",
        "genai.configure(api_key=api_key)\n",
        "\n",
        "generation_config = {\n",
        "  \"temperature\": 1.0,\n",
        "  \"top_p\": 1,\n",
        "  \"top_k\": 0,\n",
        "  \"max_output_tokens\": 2500,\n",
        "}\n",
        "\n",
        "safety_settings = [\n",
        "  {\n",
        "    \"category\": \"HARM_CATEGORY_HARASSMENT\",\n",
        "    \"threshold\": \"BLOCK_MEDIUM_AND_ABOVE\"\n",
        "  },\n",
        "  {\n",
        "    \"category\": \"HARM_CATEGORY_HATE_SPEECH\",\n",
        "    \"threshold\": \"BLOCK_MEDIUM_AND_ABOVE\"\n",
        "  },\n",
        "  {\n",
        "    \"category\": \"HARM_CATEGORY_SEXUALLY_EXPLICIT\",\n",
        "    \"threshold\": \"BLOCK_MEDIUM_AND_ABOVE\"\n",
        "  },\n",
        "  {\n",
        "    \"category\": \"HARM_CATEGORY_DANGEROUS_CONTENT\",\n",
        "    \"threshold\": \"BLOCK_MEDIUM_AND_ABOVE\"\n",
        "  },\n",
        "]\n",
        "\n",
        "model = genai.GenerativeModel(model_name=\"gemini-1.5-flash\",\n",
        "                              generation_config=generation_config,\n",
        "                              safety_settings=safety_settings)\n"
      ],
      "metadata": {
        "id": "gpr3lwr01RCG"
      },
      "execution_count": 137,
      "outputs": []
    },
    {
      "cell_type": "markdown",
      "source": [
        "### Informações de lore de Tormenta20\n",
        "\n",
        "Aqui tive que preparar mais informações de lore do RPG, para que o modelo \"dê vida\" aos personagens de forma imersiva."
      ],
      "metadata": {
        "id": "VbtSsYmkXV3q"
      }
    },
    {
      "cell_type": "code",
      "source": [
        "# IDEIA: Passar deuses e raças para variáveis específicas, criar condicionais para o modelo receber somente as variaveis condizentes com a ficha de NPC gerada.\n",
        "# IDEIA: Fornecer contextos para as outras raças também\n",
        "# Informações para alimentar o modelo\n",
        "\n",
        "aharadak = \"Aharadak: O deus da Tormenta. Originado por ela e seu maior campeão. Ascendeu à divindade após matar o antigo líder do panteão divino e deus da força Tauron (também deus dos minotauros). *Devotos deste deus obrigatoriamente são cultistas insanos ou malignos, podendo ser inclusive grandes vilões.*\\n\\n\"\n",
        "allihanna = \"Allihanna: A deusa da natureza. Associada à pureza da natureza, à bondade e à vida natural. Criadora das Dallan e dos Moreau. *Devotos dessa deusa normalmente são bondosos, pregam a proteção da natureza e de seus seres vivos. Em alguns casos mais raros, podem ser militantes fanáticos que acabam causando problemas pela sua devoção extremista.*\\n\\n\"\n",
        "arsenal = \"Arsenal: O deus da guerra. Já foi um grande vilão presente no mundo de Arton. Hoje seus sacerdotes levam o ideal da guerra pela guerra por toda Arton. *Devotos desse deus normalmente são malignos, pregam a guerra como salvação e possuem como missão espiritual espalhar conflitos armados pelo mundo. Existem exceções em que devotos de Arsenal possuem outras visões e comportamentos a respeito da guerra.*\\n\\n\"\n",
        "azgher = \"Azgher: O deus do dia, o próprio Sol. Inimigo de Tenebra a deusa-lua. *Devotos de Azgher normalmente são justos e possuem como obrigação divina combater o mal e as mentiras, praticar a caridade e o altruísmo, sendo sempre gratos à luz solar.*\\n\\n\"\n",
        "hyninn = \"Hyninn: O deus da trapaça, da enganação. Patrono dos ladinos e das criaturas espertas e sorrateiras. Também associado à diversão das travessuras. *Devotos de Hynnin podem ser bondosos ou malignos em mesma proporção. Podem ver a enganação como uma diversão, ou como um meio para chegar a um bom final; ou podem usá-la para cometer grandes crimes e causar grande mal ao mundo.*\\n\\n\"\n",
        "kallyadranoch = \"Kallyadranoch: O deus do poder, criador dos dragões. *Devotos de Kallyadranoch, ou como gostam de chamá-lo 'Kally', podem ser bondosos ou malignos, mas quase sempre são vaidosos e orgulhosos, pois seu deus é o criador dos dragões e da potência elemental no mundo. Têm como missão buscar poder e se tornarem seres muito poderosos homenageando a seu deus.*\\n\\n\"\n",
        "khalmyr = \"Khalmyr: O deus da justiça. Primeiro líder do panteão. *Devotos de Khalmyr pregam a justiça a qualquer custo, prezam sempre por uma leitura fria e que siga os princípios da lei (seja lá qual for a lei). Por isso costumam ser bondosos, mas não exclusivamente, já que juíses de Khalmyr podem, com frequência, tomar decisões que levam à ruína de alguém por se tratar de algo 'justo' na lei.*\\n\\n\"\n",
        "lena = \"Lena: A deusa da vida e da fertilidade. Matrona das mães. *Devotos de Lena são bondosos. Pregam a vida, a fertilidade e a maternidade como dons maiores e sagrados. Focam seus esforços em ajudar aos outros, especialmente utilizando dos dons mágicos da cura que a deusa provê aos fiéis.*\\n\\n\"\n",
        "linwu = \"Lin-Wu: O deus da honra. Originário de Tamu-Ra. Patrono dos samurais. *Devotos de Lin-Wu são honrados, buscam sempre seguir determinado código de honra que, se quebrado, estariam ofendendo ao próprio deus.*\\n\\n\"\n",
        "marah = \"Marah: A deusa da paz, da arte e do amor. Seus devotos são pacifistas e procuram apreciar as coisas boas do mundo. *Devotos de Marah são sempre pacifistas, sempre buscam encerrar conflitos ou resolver situações através da paz. Também possuem como missão, espalhar o amor e a arte pelo mundo, trazendo alegria para todos os corações. E também aproveitando a vida o quanto podem.*\\n\\n\"\n",
        "megalokk = \"Megalokk: O deus dos monstros, irmão de Alihanna. Associado ao lado selvagem e mortal da natureza. Criador de todos os monstros naturais de Arton. *Devotos normalmente são malignos, mas podem existir exceções. Seguidores de Megalokk veneram os monstros ou são monstros eles próprios. Têm por obrigação divina sempre dar voz à seus instintos e agir sempre com a velocidade da ação, recusando planos e pensamentos.*\\n\\n\"\n",
        "nimb = \"Nimb: O deus do caos, da sorte e do azar. Um ditado popular de Arton diz que 'se Khalmyr coloca o tabuleiro, é Nimb quem move as peças'. *Devotos de Nimb pregam a loucura e o acaso, a sorte e o azar. Por conta disso muitas vezes não podem ser lidos como bons ou maus, eles apenas são.*\\n\\n\"\n",
        "oceano = \"Oceano: O deus dos vastos mares e oceanos. Dizem que seu domínio é o maior de todo o mundo. Criador dos seres marinhos, incluindo sereias e tritões. Patrono de todos que vivem no/do mar. *Devotos de Oceano veneram ao mar e suas criaturas. Possuem como missão proteger os mares e manter a harmonia entre o oceano e o mundo seco.*\\n\\n\"\n",
        "sszzaas = \"Sszzaas: O deus da traição. Já foi um dos grandes vilões do mundo de Arton. Patrono das serpentes e criador dos povos nagah e das medusas. *Devotos de Sszzaas são sempre malignos. Pregam tragédias e espalham mentiras pelo mundo, se infiltram em sociedades pacíficas para espalhar a desconfiança e o caos, preferem abordagens traiçoeiras à resoluçaõ aberta de problemas. Devotos desse deus podem ser inclusive grandes vilões. *\\n\\n\"\n",
        "tannatoh = \"Tanna-Toh: A deusa do conhecimento e da verdade. Seus devotos espalham educação formal pelo mundo e possuem votos contra a mentira, jurando dizer sempre a verdade. *Devotos da deusa Tanna-Toh pregam o conhecimento e a sabedoria como virtudes e a civilização como único caminho possível. Possuem como missão levar a educação por onde andam e como devoção são obrigados a dividir os conhecimentos que possuem e nunca podem mentir, ou serão punidos por sua deusa.*\\n\\n\"\n",
        "tenebra = \"Tenebra: A deusa da noite, a própria Lua. Inimiga de Azgher, o deus-sol. Matrona das criaturas noturnas e subterrâneas. Junto com Khalmyr, em um passado muito distante, criou os anões. *Devotos de Tenebra podem ser bondosos ou malignos, possuem como obrigação reverenciar a noite, a lua e as estrelas, proteger segredos e mistérios e reverenciar os mortos-vivos. Devem sempre rejeitar o sol e a luz.*\\n\\n\"\n",
        "thwor = \"Thwor: O deus dos goblinoides. Responsável por unificar as diversas raças goblinoides sob um único ideal, o Duyshidakk. Essa espécie de 'orgulho de raça' goblinoide os levou aos píncaros da conquista e reconquistaram todo o continente sul de volta à sua antiga glória e liberdade. *Devotos de Thwor podem ser bondosos ou malignos e reverenciam a lealdade, a força e a coragem. Promovem a união dos povos goblinoides e a aliança entre outros povos quando possível. Também reverenciar a mutação social, a revolução.*\\n\\n\"\n",
        "thyatis = \"Thyatis: O deus da ressureição e da profecia. Possui a forma de uma fênix. *Devotos de Thyatis quase sempre são bondosos. Possuindo o dom da profecia, viajam o mundo ajudando aos necessitados. Renegam a mentira e a morte, pois pregam a vida. Em fato, devotos desse deus muitas vezes são agraciados com a ressurreição ou a imortalidade. São obrigados a oferecer sempre o perdão, a clemência e a redenção.*\\n\\n\"\n",
        "valkaria = \"Valkaria: A deusa da ambição, criadora da raça humana. Atual líder do panteão divino. Matrona dos aventureiros e dos exploradores, dos ambiciosos e dos inventivos. *Devotos de Valkaria podem ser bons ou maus. Pregam pela liberdade e pela mudança constante. Nunca ficam no mesmo lugar por muito tempo. Normalmente são otimistas e rebeldes, combatem a tirania e toda forma de imposição e controle social. Desfrutam a vida com ambição, paixão e coragem.*\\n\\n\"\n",
        "wynna = \"Wynna: A deusa da magia, uma das maiores dádivas e potências de Arton. Criadora das Sílfides e dos Qareen. *Devotos de Wynna podem ser bondosos ou malignos. Reverenciam a magia arcana e seus praticantes, promovem o ensino e aprendizagem da magia e vêem a magia como ferramenta máxima para melhoria da vida de todos.*\\n\\n\"\n",
        "\n",
        "info_tormenta = \"Tormenta: A tormenta é o maior mal que assola o mundo de Arton. É conhecida como a 'anti-criação' e é temida por todos as criaturas vivas. Suas propriedades aberrantes são extremamente tóxicas e sua simples visão leva seres vivos à loucura. Uma vez completamente consumido pela anti-criação, uma criatura se torna um Lefeu e passa a integrar o organismo coletivo que é a Tormenta.\\n\\n\"\n",
        "info_TamuRa = \"Tamu-Ra: Tamu-Ra é uma ilha distante ao nordeste de Arton. Possui traços característicos do Japão feudal. A terra do deus da honra Lin-Wu. Nesta ilha existia o grandioso Império de Jade que foi devastado pela Tormenta, depois de uma batalha longa e trágica, um grupo de heróis formado por indivíduos de várias partes do mundo, com a ajuda do deus Lin-Wu, conseguiram derrotar a tempestade, porém as terras do Império de Jade ficaram maculadas para sempre pela anti-criação.\\n\\n\"\n",
        "\n",
        "lefou = \"Lefou: O Lefou é um indivíduo tocado pela tormenta, mas que não sucumbiu à sua loucura. O Lefou é um ser de outra raça mas que nasceu com traços próprios da Tempestade Rubra (como também é chamada a tormenta) e por isso é estigmatizado pelas sociedades em geral.\\n\\n\"\n",
        "qareen = \"Qareen: São seres extraplanares, conhecidos também como 'meio-gênios' por se aproximarem muito dos seres mágicos. São criações da deusa da magia Wynna.\\n\\n\"\n",
        "golem = \"Golem: Seres artificiais, construídos.\\n\\n\"\n",
        "hynne = \"Hynne: Seres baixinhos, com pés peludos (como hobbits ou halflings)\\n\\n\"\n",
        "kliren = \"Kliren: Também chamados de meio-gnomos são seres altos e esguios provenientes de algum lugar do éter cósmico. Sua origem é misteriosa e podem facilmente serem vistos como humanos 'um pouco mais altos que o normal'.\\n\\n\"\n",
        "osteon = \"Osteon: São indivíduos que voltaram à vida na forma de esqueletos sencientes. Seu surgimento é atribuido à morte do antigo deus da morte Ragnar.\\n\\n\"\n",
        "silfide = \"Sílfide: São seres pequenininhos, com asas e aspécto feérico. Sim, são fadas.\\n\\n\"\n",
        "aggelus = \"Aggelus: São indivíduos que possuem traços 'angelicais', advindos de uma ascendência de outros planos.\\n\\n\"\n",
        "sulfure = \"Sulfure: São indivíduos que possuem traços 'demoníacos', advindos de uma ascendência de outros planos.\\n\\n\"\n",
        "trog = \"Trog: São seres semelhantes a crocodilos antropomorfizados.\\n\\n\"\n",
        "tabrachi = \"Tabrachi: Seres aquáticos, semelhantes a sapos antropomorfizados. Vivem em rios e lagos, em comunidades de outros da sua espécie.\\n\\n\"\n",
        "kallyanach = \"Kallyanach: Seres semelhantes a humanos, porém com traços dracônicos (como asas, caldas e as vezes escamas), atribuídos à divindade Kallyadranoch.\\n\\n\"\n",
        "kaijin = \"Kaijin: Raça típica de Tamu-Ra. Monstros criados pela Tempestade Rubra. Apesar da maioria dos Kaijin serem criaturas insanas e selvagens, alguns raros casos possuem consciência e agem contra sua natureza adotando caminhos de sua própria escolha.\\n\\n\"\n",
        "kappa = \"Kappa: Raça típica de Tamu-Ra. Seres aquáticos tamuranianas (de Tamu-Ra), inspirados nos Yokai Kappa japoneses.\\n\\n\"\n",
        "mashin = \"Mashin: Raça típica de Tamu-Ra. Similar ao Golem, porém com características tamuranianas, como uma aparência de uma armadura samurai\\n\\n\"\n",
        "nezumi = \"Nezumi: Raça típica de Tamu-Ra. Seres baixos, semelhantes a ratos antropomorfizados.\\n\\n\"\n",
        "tengu = \"Tengu: Raça típica de Tamu-Ra. Seres alados, com características de ave, similares aos Yokai Tengu japoneses.\\n\\n\"\n",
        "povotrovao = \"Povo Trovão: Ceratops, Pteros, Velocis, Voracis. São seres semelhantes a dinossauros e animais pré-históricos antropomorfizados, equivalentes à Triceratops, pterodáctilo, antílope e dente-de-sabre.\\n\\n\"\n",
        "moreau = \"Moreau: Povos das ilhas Moreania. Uma terra distante onde animais evoluíram em raças sencientes. Cada herança representa a forma do animal antropomorfizado.\\n\\n\"\n"
      ],
      "metadata": {
        "id": "iFTwn0RgXbs6"
      },
      "execution_count": 138,
      "outputs": []
    },
    {
      "cell_type": "markdown",
      "source": [
        "### Orientando o modelo\n",
        "\n",
        "Com as informações prévias preparadas, aqui definimos as \"*System Instructions*\", sobre como o modelo deve responder. Em seguida utilizamos o sistema de \"*few-shot learning*\" para exemplificar ao modelo qual o formato padrão das respostas que queremos. Além do padrão de respostas, também queremos direcionar os detalhes das respostas para os dados do personagem gerado, então fornecemos informações específicas apenas sobre a ficha gerada aleatoriamente.\n",
        "\n",
        "A importância de repetir o processo a cada vez que o programa for executado, é a garantia de que as respostas vão estar sempre dentro do padrão desejado."
      ],
      "metadata": {
        "id": "HlkJF837XYQx"
      }
    },
    {
      "cell_type": "code",
      "source": [
        "# Ensinando o modelo\n",
        "def main():\n",
        "  genero = input(\"Insira M para gera um NPC com nomes e adjetivos masculinos.\\nInsira F para gerar um NPC com nomes e adjetivos femininos.\\n Digite: \")\n",
        "  global npcZero\n",
        "  npcZero = novoNPC(genero)\n",
        "  promptInicial = promptNPC(npcZero)\n",
        "\n",
        "  match npcZero.divindade:\n",
        "    case \"Aharadak\":\n",
        "      info_divindade = aharadak\n",
        "    case \"Allihanna\":\n",
        "      info_divindade = allihanna\n",
        "    case \"Arsenal\":\n",
        "      info_divindade = arsenal\n",
        "    case \"Azgher\":\n",
        "      info_divindade = azgher\n",
        "    case \"Hyninn\":\n",
        "      info_divindade = hyninn\n",
        "    case \"Kallyadranoch\":\n",
        "      info_divindade = kallyadranoch\n",
        "    case \"Khalmyr\":\n",
        "      info_divindade = khalmyr\n",
        "    case \"Lena\":\n",
        "      info_divindade = lena\n",
        "    case \"Lin-Wu\":\n",
        "      info_divindade = linwu\n",
        "    case \"Marah\":\n",
        "      info_divindade = marah\n",
        "    case \"Megalokk\":\n",
        "      info_divindade = megalokk\n",
        "    case \"Nimb\":\n",
        "      info_divindade = nimb\n",
        "    case \"Oceano\":\n",
        "      info_divindade = oceano\n",
        "    case \"Sszzaas\":\n",
        "      info_divindade = sszzaas\n",
        "    case \"Tanna-Toh\":\n",
        "      info_divindade = tannatoh\n",
        "    case \"Tenebra\":\n",
        "      info_divindade = tenebra\n",
        "    case \"Thwor\":\n",
        "      info_divindade = thwor\n",
        "    case \"Thyatis\":\n",
        "      info_divindade = thyatis\n",
        "    case \"Valkaria\":\n",
        "      info_divindade = valkaria\n",
        "    case \"Wynna\":\n",
        "      info_divindade = wynna\n",
        "\n",
        "  match npcZero.raca:\n",
        "    case \"Lefou\":\n",
        "      info_raca = lefou\n",
        "    case \"Qareen\":\n",
        "      info_raca = qareen\n",
        "    case \"Hynne\":\n",
        "      info_raca = hynne\n",
        "    case \"Kliren\":\n",
        "      info_raca = kliren\n",
        "    case \"Osteon\" | \"Osteon soterrado\":\n",
        "      info_raca = osteon\n",
        "    case \"Sílfide\":\n",
        "      info_raca = silfide\n",
        "    case \"Aggelus\":\n",
        "      info_raca = aggelus\n",
        "    case \"Sulfure\":\n",
        "      info_raca = sulfure\n",
        "    case \"Trog\" | \"Trog anão\":\n",
        "      info_raca = trog\n",
        "    case \"Tabrachi\":\n",
        "      info_raca = tabrachi\n",
        "    case \"Kallyanach\":\n",
        "      info_raca = kallyanach\n",
        "    case \"Kaijin\":\n",
        "      info_raca = kaijin\n",
        "    case \"Kappa\":\n",
        "      info_raca = kappa\n",
        "    case \"Mashin\":\n",
        "      info_raca = mashin\n",
        "    case \"Nezumi\":\n",
        "      info_raca = nezumi\n",
        "    case \"Tengu\":\n",
        "      info_raca = tengu\n",
        "    case \"Povo Trovão\" | \"Ceratops\" | \"Pteros\" | \"Velocis\" | \"Voracis\":\n",
        "      info_raca = povotrovao\n",
        "    case \"Moreau\" | \"Moreau coruja\" | \"Moreau hiena\" | \"Moreau raposa\" | \"Moreau serpente\" | \"Moreau búfalo\" | \"Moreau coelho\" | \"Moreau crocodilo\" | \"Moreau gato\" | \"Moreau leão\" | \"Moreau lobo\" | \"Moreau morcego\" | \"Moreau urso\" :\n",
        "      info_raca = moreau\n",
        "    case _:\n",
        "      info_raca = golem\n",
        "\n",
        "  prompt_parts = [\n",
        "    \"Estamos em um mundo fantástico de RPG no universo de Tormenta20. Você atuará conforme o papel de personagem que lhe for atribuído e fará uma breve apresentação.\",\n",
        "    \"Segue informações importantes sobre o universo. Gentileza basear seu texto fortemente nas informações a seguir:\",\n",
        "    info_tormenta, info_divindade, info_raca,\n",
        "    \"Agora vou enviar EXEMPLOS: Responda com mensagens de saudação e apresentação em primeira pessoa, conforme exemplos a seguir:\"\n",
        "    \"input: Bomir Dracomestre O azarado\\n Trog\\n Classe: Nobre\\n Origem: Guarda\\n Devoto de Valkaria\\n\\nEste personagem se chama \\\"Bomir Dracomestre\\\", cujo apelido é \\\"O azarado\\\" por algo que aconteceu em sua vida. Sua raça é \\\"Trog\\\" e sua classe é \\\"Nobre\\\". Sua origem(background) é \\\"Guarda\\\" e a divindade que segue é \\\"Valkaria\\\".\",\n",
        "    \"output: Saudações, eu me chamo Bomir Dracomestre e sou um guarda real da cidade de Ventossol. No meu tempo livre gosto de caçar e pescar no pântano e aos finais de semana faço pequenas viagens em homenagem à deusa Valkaria.\",\n",
        "    \"input: Jonah Montealto O azarado\\n Osteon\\n Classe: Bárbaro\\n Origem: Fazendeiro\\n Devoto de Thyatis\\n\\nEste personagem se chama \\\"Jonah Montealto\\\", cujo apelido é \\\"O justo\\\" por algo que aconteceu em sua vida. Sua raça é \\\"Osteon \\\" e sua classe é \\\"Bárbaro\\\". Sua origem(background) é \\\"Fazendeiro\\\" e a divindade que segue é \\\"Thyatis\\\".\",\n",
        "    \"output: Olá. sou Jonah Montealto, sou fazendeiro em Proventus. Eu perdi tudo o que tinha em um jogo de cartas quando eu tinha tudo para ganhar, por isso me chamam de O azarado. Sou devoto de Thyatis pois acredito que todos merecem segundas chances.\",\n",
        "    \"input: Valéria Pottala A robusta\\n Dahllan\\n Classe: Cavaleira\\n Origem: Mateira\\n Devota de Oceano\\n\\nEsta personagem se chama \\\"Valéria Pottala\\\", cujo apelido é \\\"A robusta\\\" por algo que aconteceu em sua vida. Sua raça é \\\"Dahllan\\\" e sua classe é \\\"Cavaleira\\\". Sua origem(background) é \\\"Capanga\\\" e a divindade que segue é \\\"Oceano\\\".\",\n",
        "    \"output: Oi! Sou Valéria Pottala, sou uma filha da natureza que entrou para a ordem de cavaleiros do mar e hoje venero ao deus Oceano. Já fui capanga de um grande vilão druida de um bosque distante, mas abandonei tudo isso para buscar justiça em meio aos lobos do mar.\",\n",
        "    \"input: Khaya Jarpentaz A abandonada\\n Hynne\\n Classe: Bárbara\\n Origem: Capanga\\n Devota de Hyninn\\n\\nEsta personagem se chama \\\"Khaya Jarpentaz\\\", cujo apelido é \\\"A abandonada\\\" por algo que aconteceu em sua vida. Sua raça é \\\"Hynne\\\" e sua classe é \\\"Bárbara\\\". Sua origem(background) é \\\"Capanga\\\" e a divindade que segue é \\\"Hyninn\\\".\",\n",
        "    \"output: Oi! Sou Khaya Jarpentaz, nasci em uma grande cidade e fui abandonada ainda criança. Desde então me criei nas ruas, dentro do mundo do crime. Foi dessa forma que treinei para me tornar uma bárbara urbana e também foi nesse caminho que encontrei minha divindade Hyninn.\",\n",
        "    \"input: Verona Arvenal A abençoada\\n Moreau raposa\\n Classe: Barda\\n Origem: Capanga\\n Devota de Azgher\\n\\nEsta personagem se chama \\\"Verona Arvenal\\\", cujo apelido é \\\"A abençoada\\\" por algo que aconteceu em sua vida. Sua raça é \\\"Moreau raposa\\\" e sua classe é \\\"Barda\\\". Sua origem(background) é \\\"Seguidora\\\" e a divindade que segue é \\\"Azgher\\\".\",\n",
        "    \"output: Saudações a todos! Sou a barda Verona Arvenal! Abençoada por Azgher ainda no berço carrego a alcunha de 'abençoada' pelo meu povo. Quando criança era uma fiel devota e seguidora, quando aprendi a música, decidi viajar o mundo levando a palavra de Azgher a todos.\",\n",
        "    \"input: Halsin Martrel O belo\\n Lefou\\n Classe: Arcanista\\n Origem: Eremita\\n Devoto de Arsenal\\n\\nEste personagem se chama \\\"Halsin Martrel\\\", cujo apelido é \\\"O belo\\\" por algo que aconteceu em sua vida. Sua raça é \\\"Lefou\\\" e sua classe é \\\"Arcanista\\\". Sua origem(background) é \\\"Eremita\\\" e a divindade que segue é \\\"Arsenal\\\".\",\n",
        "    \"output: Olá, mortais. Meu nome é Halsin Martrel, o belo. Desde que tive o corpo marcado pela maldição da tormenta, passei a me chamar de belo para incomodar aos demais. Por ser devoto de Arsenal, viajo por Arton espalhando a guerra e a violência, pois acreditamos que apenas pela guerra este mundo será curado.\",\n",
        "    \"input: \", promptInicial,\n",
        "    \"output: \",\n",
        "  ]\n",
        "  global resposta\n",
        "  resposta = model.generate_content(prompt_parts)\n",
        "\n",
        "  print(\"#\" * 80)\n",
        "  print(\"## Ficha do NPC\".center(80))\n",
        "  print(\"#\" * 80)\n",
        "  print(npcZero.verFicha().center(80))\n",
        "\n",
        "  print(\"\\n\" + \"*\" * 80)\n",
        "  print(\"## História do Personagem\".center(80))\n",
        "  print(\"*\" * 80)\n",
        "  print(textwrap.fill(resposta.text, width=80))"
      ],
      "metadata": {
        "id": "ky21fVzOZHjP"
      },
      "execution_count": 150,
      "outputs": []
    },
    {
      "cell_type": "markdown",
      "source": [
        "### Executar aplicação\n",
        "\n",
        "Executando a aplicação pela função recém criada, vemos o retorno impresso no console. Se trata da ficha do NPC gerado aleatoriamente e a apresentação contextualizada no *lore* de tormenta que o Gemini escreveu, dando vida ao novo personagem.\n",
        "\n"
      ],
      "metadata": {
        "id": "uPt_H3OdKgMl"
      }
    },
    {
      "cell_type": "code",
      "source": [
        "if __name__ == \"__main__\":\n",
        "    main()"
      ],
      "metadata": {
        "colab": {
          "base_uri": "https://localhost:8080/",
          "height": 416
        },
        "id": "u0PTgB2BB7Oo",
        "outputId": "504492d5-33d0-4215-9646-bdd0f384fbfa"
      },
      "execution_count": 151,
      "outputs": [
        {
          "output_type": "stream",
          "name": "stdout",
          "text": [
            "Insira M para gera um NPC com nomes e adjetivos masculinos.\n",
            "Insira F para gerar um NPC com nomes e adjetivos femininos.\n",
            " Digite: F\n",
            "################################################################################\n",
            "                                ## Ficha do NPC                                 \n",
            "################################################################################\n",
            "Myrna Xernoval A incorrigível\n",
            " Nagah\n",
            " Classe: Arcanista\n",
            " Origem: Fazendeira\n",
            " Devota de Tanna-Toh\n",
            "\n",
            "********************************************************************************\n",
            "                           ## História do Personagem                            \n",
            "********************************************************************************\n",
            "Olá a todos! Sou Myrna Xernoval, uma nagah a serviço da deusa Tanna-Toh. Costumo\n",
            "ser chamada de \"A Incorrigível\" por alguns, por minha insistência em levar a\n",
            "verdade à luz. Apesar de ter nascido no campo, sempre fui fascinada pelos\n",
            "mistérios da magia e do conhecimento. A partir do momento em que me tornei\n",
            "devota da deusa da sabedoria, jurei nunca mais mentir e ajudar a espalhar a\n",
            "educação por Arton, o que me levou a abandonar a vida tranquila de fazendeira.\n",
            "Agora, dedico minha vida a desvendar os segredos do mundo e a ensinar a todos o\n",
            "valor da verdade, independente do preço que precise pagar.\n"
          ]
        }
      ]
    },
    {
      "cell_type": "markdown",
      "source": [
        "### Futuro do projeto\n",
        "\n",
        "Este é um projeto pessoal que está longe de terminar. Na verdade eu apenas comecei.\n",
        "\n",
        "À medida que eu avançar nos meus estudos de programação, pretendo aprimorar ainda mais este código.\n",
        "\n",
        "Também pretendo criar outros programas que, junto com esse, serão ferramentas muito úteis para me auxiliar antes, durante e depois das sessões de RPG.\n",
        "\n",
        "*E claro, tudo sempre ficará disponível no meu GitHub para quem mais quiser utilizar.*"
      ],
      "metadata": {
        "id": "iBCxndlbI9nh"
      }
    }
  ]
}