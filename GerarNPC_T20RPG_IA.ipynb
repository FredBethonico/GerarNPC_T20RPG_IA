{
  "nbformat": 4,
  "nbformat_minor": 0,
  "metadata": {
    "colab": {
      "provenance": [],
      "authorship_tag": "ABX9TyOVI0EHl66+FPHtqlb6LlLi",
      "include_colab_link": true
    },
    "kernelspec": {
      "name": "python3",
      "display_name": "Python 3"
    },
    "language_info": {
      "name": "python"
    }
  },
  "cells": [
    {
      "cell_type": "markdown",
      "metadata": {
        "id": "view-in-github",
        "colab_type": "text"
      },
      "source": [
        "<a href=\"https://colab.research.google.com/github/FredBethonico/GerarNPC_T20RPG_IA/blob/main/GerarNPC_T20RPG_IA.ipynb\" target=\"_parent\"><img src=\"https://colab.research.google.com/assets/colab-badge.svg\" alt=\"Open In Colab\"/></a>"
      ]
    },
    {
      "cell_type": "markdown",
      "source": [
        "# Gerar NPC aleatório\n",
        "\n",
        "Aplicação para auxiliar mestres de RPG do sistema Tormenta20 a criarem NPCs de forma aleatória e rápida.\n",
        "\n",
        "Neste código, utiliza-se IA para gerar uma pequena apresentação contextualizada no mundo de Arton e em primeira pessoa do NPC recém gerado.\n",
        "\n",
        "*Observação: Esse código está sendo escrito e aprimorado a medida que estudo Python. Comecei há poucos meses e sempre que aprendo algo novo que possa se encaixar neste projeto, faço a implementação, como fiz agora com a API do Gemini.*"
      ],
      "metadata": {
        "id": "s5WeJDCsuBFH"
      }
    },
    {
      "cell_type": "markdown",
      "source": [
        "\n",
        "### Listas dos atributos\n",
        "\n",
        "Raças, Classes e Origens retiradas dos livros:\n",
        "- Tormenta 20\n",
        "- Ameaças de Arton\n",
        "\n",
        "*Material original da Editora Jambô, reproduzido parcialmente para fins de entretenimento e sem nenhum interesse lucrativo.*"
      ],
      "metadata": {
        "id": "Hh9Ul3bG7v1R"
      }
    },
    {
      "cell_type": "code",
      "source": [
        "# Pools com os nomes que serão aleatorizados\n",
        "\n",
        "pool_nomesM = [\"Rognar\", \"Teobaldo\", \"Bomir\", \"Jerônimo\", \"Flynnagoras\", \"Baltazar\", \"Makael\", \"Valcyr\", \"Valter\", \"Halsin\", \"Jarpen\",\n",
        "               \"Mörk\", \"Atreus\", \"Lohan\", \"Jonah\", \"Astarion\", \"Carlinton\", \"Lorrick\", \"Grognak\", \"Lucrécio\", \"Ailton\", \"Ulysses\",\n",
        "               \"Kermer\", \"Domner\", \"Garibald\", \"Oscar\", \"Aristeu\", \"Filermino\", \"Gregório\", \"Kain\", \"Alaric\", \"Darius\", \"Thraus\",\n",
        "               \"Leofric\", \"Eadric\", \"Theron\", \"Aric\", \"Caelan\", \"Baelor\", \"Lucian\", \"Galen\", \"Aldwin\", \"Tormund\", \"Soren\", \"Bran\", \"Yorik\"]\n",
        "\n",
        "pool_nomesF = [\"Belinda\", \"Valéria\", \"Myrna\", \"Khaga\", \"Khaya\", \"Lisandra\", \"Cassandra\", \"Lorelai\", \"Nami\", \"Olga\", \"Verona\", \"Maura\",\n",
        "               \"Zênia\", \"Lisiane\", \"Merina\", \"Gwen\", \"Crisiane\", \"Xanara\", \"Arwina\", \"Verediana\", \"Lucrécia\", \"Vanderlize\", \"Ayleth\",\n",
        "               \"Tiana\", \"Dhara\", \"Dianna\", \"Maryna\", \"Merídia\", \"Nialla\", \"Hannah\", \"Rosana\", \"Valkyria\", \"Eva\", \"Melissa\", \"Elowen\",\n",
        "               \"Seraphina\", \"Lyanna\", \"Morgana\", \"Elysande\", \"Althea\", \"Nymeria\", \"Rawena\", \"Arianne\", \"Thaliandra\", \"Melissandra\",\n",
        "               \"Gwyneth\", \"Lyria\", \"Elara\", \"Arwen\", \"Ysolda\"]\n",
        "\n",
        "pool_sobrenomes = [\"Costassilva\", \"Morrozal\", \"Pendragão\", \"Milicent\", \"Xernoval\", \"Sombrolino\", \"Montealto\", \"Grancastillo\",\n",
        "                   \"Pottala\", \"Jarpentaz\", \"Grinn\", \"Scariot\", \"Vinal\", \"Grutazul\", \"Riozedo\", \"Arvenal\", \"Vensolar\", \"Martrel\",\n",
        "                   \"Castarel\", \"Fógua\", \"Molna\", \"Mogno\", \"Carvalhão\", \"Yuuta\", \"Bornal\", \"Cálico\", \"Hammas\", \"Dracomestre\",\n",
        "                   \"Harms\", \"Nestarez\", \"Almeirão\", \"Fenrir\"]\n",
        "\n",
        "pool_apelidosM = [\"O profano\", \"O justo\", \"O sortudo\", \"O azarado\", \"O injustiçado\", \"O robusto\", \"O belo\", \"O atormentado\", \"O cego\",\n",
        "                  \"O juíz\", \"O farto\", \"O abençoado\", \"O herói\", \"O campeão\", \"O esquecido\", \"O abandonado\", \"O impuro\", \"O leal\",\n",
        "                  \"O verdadeiro\", \"O falastrão\", \"O incorrigível\", \"O patrono\", \"O imperdoável\"]\n",
        "\n",
        "pool_apelidosF = [\"A profana\", \"A justa\", \"A sortuda\", \"A azarada\", \"A injustiçada\", \"A robusta\", \"A bela\", \"A atormentada\", \"A cega\",\n",
        "                  \"A juíza\", \"A farta\", \"A abençoada\", \"A heroína\", \"A campeã\", \"A esquecida\", \"A abandonada\", \"A impura\", \"A leal\",\n",
        "                  \"A verdadeira\", \"A falastrona\", \"A incorrigível\", \"A matrona\", \"A imperdoável\"]\n",
        "\n",
        "\n",
        "# Pools com as informações de raças, classes e origens de Tormenta20\n",
        "\n",
        "    # Raças\n",
        "\n",
        "pool_racasM = [\"Humano\", \"Anão\", \"Elfo\", \"Goblin\", \"Lefou\", \"Minotauro\", \"Qareen\", \"Golem\", \"Hynne\", \"Kliren\", \"Osteon\", \"Tritão\",\n",
        "               \"Sílfide\", \"Suraggel\", \"Trog\", \"Meio-Orc\", \"Orc\", \"Tabrachi\", \"Ogro\", \"Bugbear\", \"Hobgoblin\", \"Centauro\",\"Gnoll\",\n",
        "               \"Kallyanach\", \"Kaijin\", \"Kappa\", \"Mashin\", \"Nezumi\", \"Tengu\", \"Minauro\", \"Herói Kobold\", \"Povo Trovão\", \"Yidishan\",\n",
        "               \"Moreau\", \"Elfo-do-Mar\", \"Nagah\", \"Finntroll\"]\n",
        "\n",
        "pool_racasF = [\"Humana\", \"Anã\", \"Dahllan\", \"Elfa\", \"Goblin\", \"Lefou\", \"Qareen\", \"Golem\", \"Hynne\", \"Kliren\", \"Medusa\", \"Osteon\",\n",
        "               \"Sereia\", \"Sílfide\", \"Suraggel\", \"Trog\", \"Harpia\", \"Meio-Orc\", \"Orc\", \"Tabrachi\", \"Ogra\", \"Bugbear\", \"Hobgoblin\",\n",
        "               \"Centauro\", \"Gnoll\", \"Kallyanach\", \"Kaijin\", \"Kappa\", \"Mashin\", \"Nezumi\", \"Tengu\", \"Heroína Kobold\", \"Povo Trovão\",\n",
        "               \"Yidishan\", \"Moreau\", \"Elfa-do-Mar\", \"Nagah\", \"Finntroll\"]\n",
        "\n",
        "    # Sub-Raças\n",
        "\n",
        "subraca_golem_chassi = [\"Barro\", \"Bronze\", \"Carne\", \"Espelhos\", \"Ferro\", \"Gelo Eterno\", \"Pedra\", \"Sucata\"]\n",
        "subraca_golem_energia = [\"Alquimia\", \"Elemental de Água\", \"Elemental de Ar\", \"Elemental de Fogo\", \"Elemental de Terra\", \"Energia Sagrada\", \"Vapor\"]\n",
        "\n",
        "subraca_osteon = [\"Osteon\", \"Osteon soterrado\"]\n",
        "\n",
        "subraca_suraggel = [\"Aggelus\", \"Sulfure\"]\n",
        "\n",
        "subraca_trog = [\"Trog\", \"Trog anão\"]\n",
        "\n",
        "subraca_trovao = [\"Ceratops\", \"Pteros\", \"Velocis\", \"Voracis\"]\n",
        "\n",
        "subraca_moreau = [\"Moreau coruja\", \"Moreau hiena\", \"Moreau raposa\", \"Moreau serpente\", \"Moreau búfalo\", \"Moreau coelho\",\n",
        "                  \"Moreau crocodilo\", \"Moreau gato\", \"Moreau leão\", \"Moreau lobo\", \"Moreau morcego\", \"Moreau urso\"]\n",
        "\n",
        "    # Classes\n",
        "\n",
        "pool_classesM = [\"Arcanista\", \"Bárbaro\", \"Bardo\", \"Bucaneiro\", \"Caçador\", \"Cavaleiro\", \"Clérigo\", \"Druida\", \"Guerreiro\", \"Inventor\",\n",
        "                 \"Ladino\", \"Lutador\", \"Nobre\", \"Paladino\"]\n",
        "\n",
        "pool_classesF = [\"Arcanista\", \"Bárbara\", \"Barda\", \"Bucaneira\", \"Caçadora\", \"Cavaleira\", \"Clériga\", \"Druida\", \"Guerreira\", \"Inventora\",\n",
        "                 \"Ladina\", \"Lutadora\", \"Nobre\", \"Paladina\"]\n",
        "\n",
        "    # Origens\n",
        "\n",
        "pool_origensM = [\"Acólito\", \"Amigo dos animais\", \"Amnésico\", \"Aristocrata\", \"Artesão\", \"Artista\", \"Assistente de laboratório\", \"Batedor\",\n",
        "              \"Capanga\", \"Charlatão\", \"Circense\", \"Criminoso\", \"Curandeiro\", \"Eremita\", \"Escravo\", \"Estudioso\", \"Fazendeiro\",\n",
        "              \"Forasteiro\", \"Gladiador\", \"Guarda\", \"Herdeiro\", \"Herói Camponês\", \"Marujo\", \"Mateiro\", \"Membro de guilda\", \"Mercador\",\n",
        "              \"Minerador\", \"Nômade\", \"Pivete\", \"Refugiado\", \"Seguidor\", \"Selvagem\", \"Soldado\", \"Taverneiro\", \"Trabalhador\"]\n",
        "\n",
        "pool_origensF = [\"Acólita\", \"Amiga dos animais\", \"Amnésica\", \"Aristocrata\", \"Artesã\", \"Artista\", \"Assistente de laboratório\", \"Batedora\",\n",
        "              \"Capanga\", \"Charlatã\", \"Circense\", \"Criminosa\", \"Curandeira\", \"Eremita\", \"Escrava\", \"Estudiosa\", \"Fazendeira\",\n",
        "              \"Forasteira\", \"Gladiadora\", \"Guarda\", \"Herdeira\", \"Heroína Camponêsa\", \"Marujo\", \"Mateira\", \"Membra de guilda\", \"Mercadora\",\n",
        "              \"Mineradora\", \"Nômade\", \"Pivete\", \"Refugiada\", \"Seguidora\", \"Selvagem\", \"Soldada\", \"Taverneira\", \"Trabalhadora\"]\n",
        "\n",
        "    # Divindades\n",
        "\n",
        "pool_divindades = [\"Aharadak\", \"Allihanna\", \"Arsenal\", \"Azgher\", \"Hyninn\", \"Kallyadranoch\", \"Khalmyr\", \"Lena\", \"Lin-Wu\", \"Marah\", \"Megalokk\",\n",
        "                  \"Nimb\", \"Oceano\", \"Sszzaas\", \"Tanna-Toh\", \"Tenebra\", \"Thwor\", \"Thyatis\", \"Valkaria\", \"Wynna\"]\n",
        "\n"
      ],
      "metadata": {
        "id": "vbIee4GS8I4-"
      },
      "execution_count": 1,
      "outputs": []
    },
    {
      "cell_type": "markdown",
      "source": [
        "### Main\n",
        "\n",
        "Parte central do código.\n",
        "A ideia de fazer este código orientado a objetos é de que poderei implementar outras funcionalidades próprias de jogos de RPG no futuro reutilizando esse mesmo trecho de código."
      ],
      "metadata": {
        "id": "rtYiMKG17_ka"
      }
    },
    {
      "cell_type": "code",
      "source": [
        "# Pacotes importados\n",
        "\n",
        "import random\n",
        "import textwrap"
      ],
      "metadata": {
        "id": "0QVTBvqHCCaF"
      },
      "execution_count": 2,
      "outputs": []
    },
    {
      "cell_type": "code",
      "source": [
        "# Funções utilitárias\n",
        "\n",
        "aleatorio = lambda pool: random.randint(0,(len(pool)-1))\n"
      ],
      "metadata": {
        "id": "Pl9DIIozB6Im"
      },
      "execution_count": 3,
      "outputs": []
    },
    {
      "cell_type": "code",
      "source": [
        "# Função das sub-raças\n",
        "\n",
        "def gerarSubRaca(raca):\n",
        "  if raca == \"Golem\":\n",
        "    raca1 = subraca_golem_chassi[aleatorio(subraca_golem_chassi)]\n",
        "    raca2 = subraca_golem_energia[aleatorio(subraca_golem_energia)]\n",
        "    raca = raca + \" de \" + raca1 + \" energizado por \" + raca2\n",
        "  elif raca == \"Osteon\":\n",
        "    raca = subraca_osteon[aleatorio(subraca_osteon)]\n",
        "  elif raca == \"Suraggel\":\n",
        "    raca = subraca_suraggel[aleatorio(subraca_suraggel)]\n",
        "  elif raca == \"Trog\":\n",
        "    raca = subraca_trog[aleatorio(subraca_trog)]\n",
        "  elif raca == \"Povo Trovão\":\n",
        "    raca = subraca_trovao[aleatorio(subraca_trovao)]\n",
        "  elif raca == \"Moreau\":\n",
        "    raca = subraca_moreau[aleatorio(subraca_moreau)]\n",
        "  return raca"
      ],
      "metadata": {
        "id": "arDyzxweTMVu"
      },
      "execution_count": 4,
      "outputs": []
    },
    {
      "cell_type": "code",
      "source": [
        "# Classe NPC\n",
        "\n",
        "class NPC():\n",
        "  def __init__(self, nome, sobrenome, apelido, raca, classe, origem, divindade, genero):\n",
        "    self.nome = nome\n",
        "    self.sobrenome = sobrenome\n",
        "    self.apelido = apelido\n",
        "    self.raca = raca\n",
        "    self.classe = classe\n",
        "    self.origem = origem\n",
        "    self.divindade = divindade\n",
        "    self.genero = genero\n",
        "  def GerarNPC(self, genero):\n",
        "    ficha_npc = \"\"\n",
        "    if genero == \"M\":\n",
        "      self.nome = pool_nomesM[aleatorio(pool_nomesM)]\n",
        "      self.sobrenome = pool_sobrenomes[aleatorio(pool_sobrenomes)]\n",
        "      self.apelido = pool_apelidosM[aleatorio(pool_apelidosM)]\n",
        "      self.raca = pool_racasM[aleatorio(pool_racasM)]\n",
        "      self.raca = gerarSubRaca(self.raca)\n",
        "      self.classe = pool_classesM[aleatorio(pool_classesM)]\n",
        "      self.origem = pool_origensM[aleatorio(pool_origensM)]\n",
        "      self.divindade = pool_divindades[aleatorio(pool_divindades)]\n",
        "      self.genero = \"M\"\n",
        "    elif genero == \"F\":\n",
        "      self.nome = pool_nomesF[aleatorio(pool_nomesF)]\n",
        "      self.sobrenome = pool_sobrenomes[aleatorio(pool_sobrenomes)]\n",
        "      self.apelido = pool_apelidosF[aleatorio(pool_apelidosF)]\n",
        "      self.raca = pool_racasF[aleatorio(pool_racasF)]\n",
        "      self.raca = gerarSubRaca(self.raca)\n",
        "      self.classe = pool_classesF[aleatorio(pool_classesF)]\n",
        "      self.origem = pool_origensF[aleatorio(pool_origensF)]\n",
        "      self.divindade = pool_divindades[aleatorio(pool_divindades)]\n",
        "      self.genero = \"F\"\n",
        "    else:\n",
        "      print(\"Favor entrar com o parâmetro 'F' para geração de nome feminino, ou 'M' para nome masculino.\")\n",
        "  def verFicha(self):\n",
        "    if self.genero == \"M\":\n",
        "      return f'{self.nome} {self.sobrenome} {self.apelido}\\n {self.raca}\\n Classe: {self.classe}\\n Origem: {self.origem}\\n Devoto de {self.divindade}'\n",
        "    elif self.genero == \"F\":\n",
        "      return f'{self.nome} {self.sobrenome} {self.apelido}\\n {self.raca}\\n Classe: {self.classe}\\n Origem: {self.origem}\\n Devota de {self.divindade}'\n"
      ],
      "metadata": {
        "id": "9S2pRCml7OeV"
      },
      "execution_count": 5,
      "outputs": []
    },
    {
      "cell_type": "code",
      "source": [
        "# Função para criar um NPC\n",
        "\n",
        "def novoNPC(genero):\n",
        "    npc = NPC(\"\",\"\",\"\",\"\",\"\",\"\",\"\",\"\")\n",
        "    npc.GerarNPC(genero)\n",
        "    return npc\n",
        "\n",
        "def promptNPC(npc):\n",
        "  prompt = \"\"\n",
        "  prompt = npc.verFicha()\n",
        "  return prompt\n"
      ],
      "metadata": {
        "id": "tWoOTd2_DUeV"
      },
      "execution_count": 6,
      "outputs": []
    },
    {
      "cell_type": "markdown",
      "source": [
        "### Resultado inicial da aplicação de Gerar NPC\n",
        "\n",
        "A princípio o programa intencionava apenas gerar o objeto NPC e exibí-lo no console de forma organizada.\n",
        "Agora transformei o resultado em uma string contínua para entrar como um comando no modelo IA."
      ],
      "metadata": {
        "id": "_t29S1tnw7I7"
      }
    },
    {
      "cell_type": "markdown",
      "source": [],
      "metadata": {
        "id": "_AGTt9YyghB7"
      }
    },
    {
      "cell_type": "code",
      "source": [
        "# Gerar NPCs\n",
        "\n",
        "npcTeste = novoNPC(\"F\")\n",
        "promptNPC(npcTeste)"
      ],
      "metadata": {
        "id": "AfATHTJqC74w",
        "colab": {
          "base_uri": "https://localhost:8080/",
          "height": 35
        },
        "outputId": "0bd03093-8d0b-4e57-800a-fb28c48386b6"
      },
      "execution_count": 7,
      "outputs": [
        {
          "output_type": "execute_result",
          "data": {
            "text/plain": [
              "'Arwina Sombrolino A bela\\n Heroína Kobold\\n Classe: Barda\\n Origem: Taverneira\\n Devota de Hyninn'"
            ],
            "application/vnd.google.colaboratory.intrinsic+json": {
              "type": "string"
            }
          },
          "metadata": {},
          "execution_count": 7
        }
      ]
    },
    {
      "cell_type": "markdown",
      "source": [
        "### Implementação da IA\n",
        "\n",
        "Este trecho do código foi desenvolvido durante a Imersão IA 2ª Edição, da Alura!\n",
        "\n",
        "Também utilizei a documentação disponibilizada pela Google e contei com o apoio do próprio Gemini para corrigir alguns bugs e tirar dúvidas sobre a implementação e uso da API.\n",
        "\n",
        "UPDATE: Troquei o formato de geração do modelo. Ao invés de utilizar o *'chat'*, agora estou utilizando *'generate content'*. Percebi que torna a aplicação mais simples, rápida e confiável.\n",
        "Portanto o modelo não retém histórico do que já criou, ele sempre se baseia nas instruções de contexto fornecidas."
      ],
      "metadata": {
        "id": "uQ6CU64iY53L"
      }
    },
    {
      "cell_type": "code",
      "source": [
        "# Instalação\n",
        "\n",
        "!pip install -q -U google-generativeai"
      ],
      "metadata": {
        "id": "9AuVIBUfZBy2",
        "colab": {
          "base_uri": "https://localhost:8080/"
        },
        "outputId": "5b0ae1b6-3584-4850-c86c-878b81d6a9b1"
      },
      "execution_count": 8,
      "outputs": [
        {
          "output_type": "stream",
          "name": "stdout",
          "text": [
            "\u001b[?25l     \u001b[90m━━━━━━━━━━━━━━━━━━━━━━━━━━━━━━━━━━━━━━━━\u001b[0m \u001b[32m0.0/158.8 kB\u001b[0m \u001b[31m?\u001b[0m eta \u001b[36m-:--:--\u001b[0m\r\u001b[2K     \u001b[91m━━━━━━━━━━━━━━━━━━━━━━━━━━━━━━\u001b[0m\u001b[91m╸\u001b[0m\u001b[90m━━━━━━━━━\u001b[0m \u001b[32m122.9/158.8 kB\u001b[0m \u001b[31m3.5 MB/s\u001b[0m eta \u001b[36m0:00:01\u001b[0m\r\u001b[2K     \u001b[90m━━━━━━━━━━━━━━━━━━━━━━━━━━━━━━━━━━━━━━━━\u001b[0m \u001b[32m158.8/158.8 kB\u001b[0m \u001b[31m3.0 MB/s\u001b[0m eta \u001b[36m0:00:00\u001b[0m\n",
            "\u001b[?25h"
          ]
        }
      ]
    },
    {
      "cell_type": "code",
      "source": [
        "# Importação e configuração do modelo\n",
        "# Escolhas de configuração e segurança copiei do AI Studio, de quando simulei essa ideia por lá\n",
        "\n",
        "import google.generativeai as genai\n",
        "from google.colab import userdata\n",
        "api_key = userdata.get(\"SECRET_KEY\")\n",
        "genai.configure(api_key=api_key)\n",
        "\n",
        "generation_config = {\n",
        "  \"temperature\": 1.0,\n",
        "  \"top_p\": 1,\n",
        "  \"top_k\": 0,\n",
        "  \"max_output_tokens\": 2500,\n",
        "}\n",
        "\n",
        "safety_settings = [\n",
        "  {\n",
        "    \"category\": \"HARM_CATEGORY_HARASSMENT\",\n",
        "    \"threshold\": \"BLOCK_MEDIUM_AND_ABOVE\"\n",
        "  },\n",
        "  {\n",
        "    \"category\": \"HARM_CATEGORY_HATE_SPEECH\",\n",
        "    \"threshold\": \"BLOCK_MEDIUM_AND_ABOVE\"\n",
        "  },\n",
        "  {\n",
        "    \"category\": \"HARM_CATEGORY_SEXUALLY_EXPLICIT\",\n",
        "    \"threshold\": \"BLOCK_MEDIUM_AND_ABOVE\"\n",
        "  },\n",
        "  {\n",
        "    \"category\": \"HARM_CATEGORY_DANGEROUS_CONTENT\",\n",
        "    \"threshold\": \"BLOCK_MEDIUM_AND_ABOVE\"\n",
        "  },\n",
        "]\n",
        "\n",
        "model = genai.GenerativeModel(model_name=\"gemini-1.5-flash\",\n",
        "                              generation_config=generation_config,\n",
        "                              safety_settings=safety_settings)\n"
      ],
      "metadata": {
        "id": "gpr3lwr01RCG"
      },
      "execution_count": 9,
      "outputs": []
    },
    {
      "cell_type": "markdown",
      "source": [
        "### Informações de lore de Tormenta20\n",
        "\n",
        "Aqui tive que preparar mais informações de lore do RPG, para que o modelo \"dê vida\" aos personagens de forma imersiva."
      ],
      "metadata": {
        "id": "tonP9a9MyG_v"
      }
    },
    {
      "cell_type": "code",
      "source": [
        "# Informações para alimentar o modelo\n",
        "\n",
        "info_deuses = {\n",
        "               \"Aharadak\": \"O deus da Tormenta. Originado por ela e seu maior campeão. Ascendeu à divindade após matar o antigo líder do panteão divino e deus da força Tauron (também deus dos minotauros). *Devotos deste deus obrigatoriamente são cultistas insanos ou malignos, podendo ser inclusive grandes vilões.*\\n\\n\",\n",
        "               \"Allihanna\": \"A deusa da natureza. Associada à pureza da natureza, à bondade e à vida natural. Criadora das Dallan e dos Moreau. *Devotos dessa deusa normalmente são bondosos, pregam a proteção da natureza e de seus seres vivos. Em alguns casos mais raros, podem ser militantes fanáticos que acabam causando problemas pela sua devoção extremista.*\\n\\n\",\n",
        "               \"Arsenal\": \"O deus da guerra. Já foi um grande vilão presente no mundo de Arton. Hoje seus sacerdotes levam o ideal da guerra pela guerra por toda Arton. *Devotos desse deus normalmente são malignos, pregam a guerra como salvação e possuem como missão espiritual espalhar conflitos armados pelo mundo. Existem exceções em que devotos de Arsenal possuem outras visões e comportamentos a respeito da guerra.*\\n\\n\",\n",
        "               \"Azgher\": \"O deus do dia, o próprio Sol. Inimigo de Tenebra a deusa-lua. *Devotos de Azgher normalmente são justos e possuem como obrigação divina combater o mal e as mentiras, praticar a caridade e o altruísmo, sendo sempre gratos à luz solar.*\\n\\n\",\n",
        "               \"Hyninn\": \"O deus da trapaça, da enganação. Patrono dos ladinos e das criaturas espertas e sorrateiras. Também associado à diversão das travessuras. *Devotos de Hynnin podem ser bondosos ou malignos em mesma proporção. Podem ver a enganação como uma diversão, ou como um meio para chegar a um bom final; ou podem usá-la para cometer grandes crimes e causar grande mal ao mundo.*\\n\\n\",\n",
        "               \"Kallyadranoch\": \"O deus do poder, criador dos dragões. *Devotos de Kallyadranoch, ou como gostam de chamá-lo 'Kally', podem ser bondosos ou malignos, mas quase sempre são vaidosos e orgulhosos, pois seu deus é o criador dos dragões e da potência elemental no mundo. Têm como missão buscar poder e se tornarem seres muito poderosos homenageando a seu deus.*\\n\\n\",\n",
        "               \"Khalmyr\": \"O deus da justiça. Primeiro líder do panteão. *Devotos de Khalmyr pregam a justiça a qualquer custo, prezam sempre por uma leitura fria e que siga os princípios da lei (seja lá qual for a lei). Por isso costumam ser bondosos, mas não exclusivamente, já que juíses de Khalmyr podem, com frequência, tomar decisões que levam à ruína de alguém por se tratar de algo 'justo' na lei.*\\n\\n\",\n",
        "               \"Lena\": \"A deusa da vida e da fertilidade. Matrona das mães. *Devotos de Lena são bondosos. Pregam a vida, a fertilidade e a maternidade como dons maiores e sagrados. Focam seus esforços em ajudar aos outros, especialmente utilizando dos dons mágicos da cura que a deusa provê aos fiéis.*\\n\\n\",\n",
        "               \"Lin-Wu\": \"O deus da honra. Originário de Tamu-Ra. Patrono dos samurais. *Devotos de Lin-Wu são honrados, buscam sempre seguir determinado código de honra que, se quebrado, estariam ofendendo ao próprio deus.*\\n\\n\",\n",
        "               \"Marah\": \"A deusa da paz, da arte e do amor. Seus devotos são pacifistas e procuram apreciar as coisas boas do mundo. *Devotos de Marah são sempre pacifistas, sempre buscam encerrar conflitos ou resolver situações através da paz. Também possuem como missão, espalhar o amor e a arte pelo mundo, trazendo alegria para todos os corações. E também aproveitando a vida o quanto podem.*\\n\\n\",\n",
        "               \"Megalokk\": \"O deus dos monstros, irmão de Alihanna. Associado ao lado selvagem e mortal da natureza. Criador de todos os monstros naturais de Arton. *Devotos normalmente são malignos, mas podem existir exceções. Seguidores de Megalokk veneram os monstros ou são monstros eles próprios. Têm por obrigação divina sempre dar voz à seus instintos e agir sempre com a velocidade da ação, recusando planos e pensamentos.*\\n\\n\",\n",
        "               \"Nimb\": \"O deus do caos, da sorte e do azar. Um ditado popular de Arton diz que 'se Khalmyr coloca o tabuleiro, é Nimb quem move as peças'. *Devotos de Nimb pregam a loucura e o acaso, a sorte e o azar. Por conta disso muitas vezes não podem ser lidos como bons ou maus, eles apenas são.*\\n\\n\",\n",
        "               \"Oceano\": \"O deus dos vastos mares e oceanos. Dizem que seu domínio é o maior de todo o mundo. Criador dos seres marinhos, incluindo sereias e tritões. Patrono de todos que vivem no/do mar. *Devotos de Oceano veneram ao mar e suas criaturas. Possuem como missão proteger os mares e manter a harmonia entre o oceano e o mundo seco.*\\n\\n\",\n",
        "               \"Sszzaas\": \"O deus da traição. Já foi um dos grandes vilões do mundo de Arton. Patrono das serpentes e criador dos povos nagah e das medusas. *Devotos de Sszzaas são sempre malignos. Pregam tragédias e espalham mentiras pelo mundo, se infiltram em sociedades pacíficas para espalhar a desconfiança e o caos, preferem abordagens traiçoeiras à resoluçaõ aberta de problemas. Devotos desse deus podem ser inclusive grandes vilões. *\\n\\n\",\n",
        "               \"Tanna-Toh\": \"A deusa do conhecimento e da verdade. Seus devotos espalham educação formal pelo mundo e possuem votos contra a mentira, jurando dizer sempre a verdade. *Devotos da deusa Tanna-Toh pregam o conhecimento e a sabedoria como virtudes e a civilização como único caminho possível. Possuem como missão levar a educação por onde andam e como devoção são obrigados a dividir os conhecimentos que possuem e nunca podem mentir, ou serão punidos por sua deusa.*\\n\\n\",\n",
        "               \"Tenebra\": \"A deusa da noite, a própria Lua. Inimiga de Azgher, o deus-sol. Matrona das criaturas noturnas e subterrâneas. Junto com Khalmyr, em um passado muito distante, criou os anões. *Devotos de Tenebra podem ser bondosos ou malignos, possuem como obrigação reverenciar a noite, a lua e as estrelas, proteger segredos e mistérios e reverenciar os mortos-vivos. Devem sempre rejeitar o sol e a luz.*\\n\\n\",\n",
        "               \"Thwor\": \"O deus dos goblinoides. Responsável por unificar as diversas raças goblinoides sob um único ideal, o Duyshidakk. Essa espécie de 'orgulho de raça' goblinoide os levou aos píncaros da conquista e reconquistaram todo o continente sul de volta à sua antiga glória e liberdade. *Devotos de Thwor podem ser bondosos ou malignos e reverenciam a lealdade, a força e a coragem. Promovem a união dos povos goblinoides e a aliança entre outros povos quando possível. Também reverenciar a mutação social, a revolução.*\\n\\n\",\n",
        "               \"Thyatis\": \"O deus da ressureição e da profecia. Possui a forma de uma fênix. *Devotos de Thyatis quase sempre são bondosos. Possuindo o dom da profecia, viajam o mundo ajudando aos necessitados. Renegam a mentira e a morte, pois pregam a vida. Em fato, devotos desse deus muitas vezes são agraciados com a ressurreição ou a imortalidade. São obrigados a oferecer sempre o perdão, a clemência e a redenção.*\\n\\n\",\n",
        "               \"Valkaria\": \"A deusa da ambição, criadora da raça humana. Atual líder do panteão divino. Matrona dos aventureiros e dos exploradores, dos ambiciosos e dos inventivos. *Devotos de Valkaria podem ser bons ou maus. Pregam pela liberdade e pela mudança constante. Nunca ficam no mesmo lugar por muito tempo. Normalmente são otimistas e rebeldes, combatem a tirania e toda forma de imposição e controle social. Desfrutam a vida com ambição, paixão e coragem.*\\n\\n\",\n",
        "               \"Wynna\": \"A deusa da magia, uma das maiores dádivas e potências de Arton. Criadora das Sílfides e dos Qareen. *Devotos de Wynna podem ser bondosos ou malignos. Reverenciam a magia arcana e seus praticantes, promovem o ensino e aprendizagem da magia e vêem a magia como ferramenta máxima para melhoria da vida de todos.*\\n\\n\"\n",
        "}\n",
        "str_info_deuses = str(info_deuses)\n",
        "\n",
        "info_tormenta = {\"Tormenta\": \"A tormenta é o maior mal que assola o mundo de Arton. É conhecida como a 'anti-criação' e é temida por todos as criaturas vivas. Suas propriedades aberrantes são extremamente tóxicas e sua simples visão leva seres vivos à loucura. Uma vez completamente consumido pela anti-criação, uma criatura se torna um Lefeu e passa a integrar o organismo coletivo que é a Tormenta.\\n\\n\"}\n",
        "str_info_tormenta = str(info_tormenta)\n",
        "\n",
        "info_TamuRa = {\"Tamu-Ra\": \"Tamu-Ra é uma ilha distante ao nordeste de Arton. Possui traços característicos do Japão feudal. A terra do deus da honra Lin-Wu. Nesta ilha existia o grandioso Império de Jade que foi devastado pela Tormenta, depois de uma batalha longa e trágica, um grupo de heróis formado por indivíduos de várias partes do mundo, com a ajuda do deus Lin-Wu, conseguiram derrotar a tempestade, porém as terras do Império de Jade ficaram maculadas para sempre pela anti-criação.\\n\\n\"}\n",
        "str_info_TamuRa = str(info_TamuRa)\n",
        "\n",
        "# Algumas raças são próprias do universo de Tormenta, necessário um pouco mais de contexto.\n",
        "info_racas = {\n",
        "              \"Lefou\": \"O Lefou é um indivíduo tocado pela tormenta, mas que não sucumbiu à sua loucura. O Lefou é um ser de outra raça mas que nasceu com traços próprios da Tempestade Rubra (como também é chamada a tormenta) e por isso é estigmatizado pelas sociedades em geral.\\n\\n\",\n",
        "              \"Qareen\": \"São seres extraplanares, conhecidos também como 'meio-gênios' por se aproximarem muito dos seres mágicos. São criações da deusa da magia Wynna.\\n\\n\",\n",
        "              \"Golem\": \"Seres artificiais, construídos.\\n\\n\",\n",
        "              \"Hynne\": \"Seres baixinhos, com pés peludos (como hobbits ou halflings)\\n\\n\",\n",
        "              \"Kliren\": \"Também chamados de meio-gnomos são seres altos e esguios provenientes de algum lugar do éter cósmico. Sua origem é misteriosa e podem facilmente serem vistos como humanos 'um pouco mais altos que o normal'.\\n\\n\",\n",
        "              \"Osteon\": \"São indivíduos que voltaram à vida na forma de esqueletos sencientes. Seu surgimento é atribuido à morte do antigo deus da morte Ragnar.\\n\\n\",\n",
        "              \"Sílfide\": \"São seres pequenininhos, com asas e aspécto feérico. Sim, são fadas.\\n\\n\",\n",
        "              \"Aggelus\": \"São indivíduos que nasceram através do contato de indivíduos do mundo de Arton com seres extra-planares, possuem traços 'angelicais'.\\n\\n\",\n",
        "              \"Sulfure\": \"São indivíduos que nasceram através do contato de indivíduos do mundo de Arton com seres extra-planares, possuem traços 'demoníacos'.\\n\\n\",\n",
        "              \"Trog\": \"São seres semelhantes a crocodilos antropomorfizados.\\n\\n\",\n",
        "              \"Tabrachi\": \"Seres aquáticos, semelhantes a sapos antropomorfizados.\\n\\n\",\n",
        "              \"Kallyanach\": \"Seres semelhantes a humanos, porém com traços dracônicos (como asas, caldas e as vezes escamas), atribuídos à divindade Kallyadranoch.\\n\\n\",\n",
        "              \"Kaijin\": \"Raça típica de Tamu-Ra. Monstros criados pela Tempestade Rubra. Apesar da maioria dos Kaijin serem criaturas insanas e selvagens, alguns raros casos possuem consciência e agem contra sua natureza adotando caminhos de sua própria escolha.\\n\\n\",\n",
        "              \"Kappa\": \"Raça típica de Tamu-Ra. Seres aquáticos tamuranianas (de Tamu-Ra), inspirados nos Yokai Kappa japoneses.\\n\\n\",\n",
        "              \"Mashin\": \"Raça típica de Tamu-Ra. Similar ao Golem, porém com características tamuranianas, como uma aparência de uma armadura samurai\\n\\n\",\n",
        "              \"Nezumi\": \"Raça típica de Tamu-Ra. Seres baixos, semelhantes a ratos antropomorfizados.\\n\\n\",\n",
        "              \"Tengu\": \"Raça típica de Tamu-Ra. Seres alados, com características de ave, similares aos Yokai Tengu japoneses.\\n\\n\",\n",
        "              \"Povo Trovão\": \"Ceratops, Pteros, Velocis, Voracis. São seres semelhantes a dinossauros e animais pré-históricos antropomorfizados, equivalentes à Triceratops, pterodáctilo, antílope e dente-de-sabre.\\n\\n\",\n",
        "              \"Moreau\": \"Povos das ilhas Moreania. Uma terra distante onde animais evoluíram em raças sencientes. Cada herança representa a forma do animal antropomorfizado.\\n\\n\"\n",
        "              }\n",
        "str_info_racas = str(info_racas)\n",
        "\n",
        "# Escrever sobre os goblinoides"
      ],
      "metadata": {
        "id": "HxGuOyj9KzfY"
      },
      "execution_count": 10,
      "outputs": []
    },
    {
      "cell_type": "markdown",
      "source": [
        "### Orientando o modelo\n",
        "\n",
        "Com as informações prévias preparadas, aqui definimos as \"*System Instructions*\", sobre como o modelo deve responder. Em seguida utilizamos o sistema de \"*few-shot learning*\" para exemplificar ao modelo qual o formato padrão das respostas que queremos.\n",
        "\n",
        "UPDATE: Encapsulei o algoritmo em uma função, simplificando a execução final do código. Agora a função `gerar_NPC` faz todo o processo de criar um NPC aleatório, enviar o prompt para o modelo e retornar sua resposta.  "
      ],
      "metadata": {
        "id": "TtK-KkQMDmJv"
      }
    },
    {
      "cell_type": "code",
      "source": [
        "# Ensinando o modelo\n",
        "def gerar_NPC(genero):\n",
        "  global npcZero\n",
        "  npcZero = novoNPC(genero)\n",
        "  promptInicial = promptNPC(npcZero)\n",
        "\n",
        "  prompt_parts = [\n",
        "    \"Estamos em um mundo fantástico de RPG no universo de Tormenta20. Você agirá conforme os papéis de personagens que lhe forem atribuídos.\",\n",
        "    \"Segue informações inportantes sobre o universo. Gentileza basear seu texto fortemente nas informações a seguir:\",\n",
        "    str_info_deuses,\n",
        "    str_info_tormenta,\n",
        "    str_info_TamuRa,\n",
        "    str_info_racas,\n",
        "    \"Agora vou enviar EXEMPLOS: Responda com mensagens de saudação e apresentação em primeira pessoa, conforme exemplos a seguir:\"\n",
        "    \"input: Bomir Dracomestre O azarado\\n Trog\\n Classe: Nobre\\n Origem: Guarda\\n Devoto de Valkaria\\n\\nEste personagem se chama \\\"Bomir Dracomestre\\\", cujo apelido é \\\"O azarado\\\" por algo que aconteceu em sua vida. Sua raça é \\\"Trog\\\" e sua classe é \\\"Nobre\\\". Sua origem(background) é \\\"Guarda\\\" e a divindade que segue é \\\"Valkaria\\\".\",\n",
        "    \"output: Saudações, eu me chamo Bomir Dracomestre e sou um guarda real da cidade de Ventossol. No meu tempo livre gosto de caçar e pescar no pântano e aos finais de semana faço pequenas viagens em homenagem à deusa Valkaria.\",\n",
        "    \"input: Jonah Montealto O azarado\\n Osteon\\n Classe: Bárbaro\\n Origem: Fazendeiro\\n Devoto de Thyatis\\n\\nEste personagem se chama \\\"Jonah Montealto\\\", cujo apelido é \\\"O justo\\\" por algo que aconteceu em sua vida. Sua raça é \\\"Osteon \\\" e sua classe é \\\"Bárbaro\\\". Sua origem(background) é \\\"Fazendeiro\\\" e a divindade que segue é \\\"Thyatis\\\".\",\n",
        "    \"output: Olá. sou Jonah Montealto, sou fazendeiro em Proventus. Eu perdi tudo o que tinha em um jogo de cartas quando eu tinha tudo para ganhar, por isso me chamam de O azarado. Sou devoto de Thyatis pois acredito que todos merecem segundas chances.\",\n",
        "    \"input: Valéria Pottala A robusta\\n Dahllan\\n Classe: Cavaleira\\n Origem: Mateira\\n Devota de Oceano\\n\\nEsta personagem se chama \\\"Valéria Pottala\\\", cujo apelido é \\\"A robusta\\\" por algo que aconteceu em sua vida. Sua raça é \\\"Dahllan\\\" e sua classe é \\\"Cavaleira\\\". Sua origem(background) é \\\"Capanga\\\" e a divindade que segue é \\\"Oceano\\\".\",\n",
        "    \"output: Oi! Sou Valéria Pottala, sou uma filha da natureza que entrou para a ordem de cavaleiros do mar e hoje venero ao deus Oceano. Já fui capanga de um grande vilão druida de um bosque distante, mas abandonei tudo isso para buscar justiça em meio aos lobos do mar.\",\n",
        "    \"input: Khaya Jarpentaz A abandonada\\n Hynne\\n Classe: Bárbara\\n Origem: Capanga\\n Devota de Hyninn\\n\\nEsta personagem se chama \\\"Khaya Jarpentaz\\\", cujo apelido é \\\"A abandonada\\\" por algo que aconteceu em sua vida. Sua raça é \\\"Hynne\\\" e sua classe é \\\"Bárbara\\\". Sua origem(background) é \\\"Capanga\\\" e a divindade que segue é \\\"Hyninn\\\".\",\n",
        "    \"output: Oi! Sou Khaya Jarpentaz, nasci em uma grande cidade e fui abandonada ainda criança. Desde então me criei nas ruas, dentro do mundo do crime. Foi dessa forma que treinei para me tornar uma bárbara urbana e também foi nesse caminho que encontrei minha divindade Hyninn.\",\n",
        "    \"input: Verona Arvenal A abençoada\\n Moreau raposa\\n Classe: Barda\\n Origem: Capanga\\n Devota de Azgher\\n\\nEsta personagem se chama \\\"Verona Arvenal\\\", cujo apelido é \\\"A abençoada\\\" por algo que aconteceu em sua vida. Sua raça é \\\"Moreau raposa\\\" e sua classe é \\\"Barda\\\". Sua origem(background) é \\\"Seguidora\\\" e a divindade que segue é \\\"Azgher\\\".\",\n",
        "    \"output: Saudações a todos! Sou a barda Verona Arvenal! Abençoada por Azgher ainda no berço carrego a alcunha de 'abençoada' pelo meu povo. Quando criança era uma fiel devota e seguidora, quando aprendi a música, decidi viajar o mundo levando a palavra de Azgher a todos.\",\n",
        "    \"input: Halsin Martrel O belo\\n Lefou\\n Classe: Arcanista\\n Origem: Eremita\\n Devoto de Arsenal\\n\\nEste personagem se chama \\\"Halsin Martrel\\\", cujo apelido é \\\"O belo\\\" por algo que aconteceu em sua vida. Sua raça é \\\"Lefou\\\" e sua classe é \\\"Arcanista\\\". Sua origem(background) é \\\"Eremita\\\" e a divindade que segue é \\\"Arsenal\\\".\",\n",
        "    \"output: Olá, mortais. Meu nome é Halsin Martrel, o belo. Desde que tive o corpo marcado pela maldição da tormenta, passei a me chamar de belo para incomodar aos demais. Por ser devoto de Arsenal, viajo por Arton espalhando a guerra e a violência, pois acreditamos que apenas pela guerra este mundo será curado.\",\n",
        "    \"input: \", promptInicial,\n",
        "    \"output: \",\n",
        "  ]\n",
        "  global resposta\n",
        "  resposta = model.generate_content(prompt_parts)\n",
        "\n",
        "  print(\"#\" * 80)\n",
        "  print(\"## Ficha do NPC\".center(80))\n",
        "  print(\"#\" * 80)\n",
        "  print(npcZero.verFicha().center(80))\n",
        "\n",
        "  print(\"\\n\" + \"*\" * 80)\n",
        "  print(\"## História do Personagem\".center(80))\n",
        "  print(\"*\" * 80)\n",
        "  print(textwrap.fill(resposta.text, width=80))"
      ],
      "metadata": {
        "id": "ky21fVzOZHjP"
      },
      "execution_count": 11,
      "outputs": []
    },
    {
      "cell_type": "markdown",
      "source": [
        "### Executar aplicação\n",
        "\n",
        "Executando a aplicação pela função recém criada, vemos o retorno impresso no console. Se trata da ficha do NPC gerado aleatoriamente e a apresentação contextualizada no *lore* de tormenta que o Gemini escreveu, dando vida ao novo personagem.\n",
        "\n"
      ],
      "metadata": {
        "id": "uPt_H3OdKgMl"
      }
    },
    {
      "cell_type": "code",
      "source": [
        "# Rodar aplicação\n",
        "\n",
        "gerar_NPC(\"F\")"
      ],
      "metadata": {
        "id": "tdDIi6Fu2KBP",
        "colab": {
          "base_uri": "https://localhost:8080/",
          "height": 312
        },
        "outputId": "caec59b1-ea48-41c9-ff7f-9772d3f3c239"
      },
      "execution_count": 12,
      "outputs": [
        {
          "output_type": "stream",
          "name": "stdout",
          "text": [
            "################################################################################\n",
            "                                ## Ficha do NPC                                 \n",
            "################################################################################\n",
            "Lisiane Fógua A imperdoável\n",
            " Yidishan\n",
            " Classe: Arcanista\n",
            " Origem: Artista\n",
            " Devota de Tenebra\n",
            "\n",
            "********************************************************************************\n",
            "                           ## História do Personagem                            \n",
            "********************************************************************************\n",
            "Eu sou Lisiane Fógua, a imperdoável. Nasci em uma família de artistas em Lenóri,\n",
            "mas o meu talento para a magia me levou para um caminho diferente. Os meus pais\n",
            "foram infelizes com a minha escolha, mas  sei que eles me amam, assim como eu os\n",
            "amo. Hoje, dedico a minha vida a Tenebra, a deusa da noite, em busca de um\n",
            "conhecimento antigo e perdido, que poderá mudar o destino do mundo.\n"
          ]
        }
      ]
    },
    {
      "cell_type": "markdown",
      "source": [
        "### Futuro do projeto\n",
        "\n",
        "Este é um projeto pessoal que está longe de terminar. Na verdade eu apenas comecei.\n",
        "\n",
        "À medida que eu avançar nos meus estudos de programação, pretendo aprimorar ainda mais este código.\n",
        "\n",
        "Também pretendo criar outros programas que, junto com esse, serão ferramentas muito úteis para me auxiliar antes, durante e depois das sessões de RPG.\n",
        "\n",
        "*E claro, tudo sempre ficará disponível no meu GitHub para quem mais quiser utilizar.*\n",
        "\n",
        "Por fim, **OBRIGADO** ao pessoal da Alura, da Google e da FIAP por proporcionarem uma imersão tão incrível, aprendi MUITO em uma semana e mal posso esperar para colocar tantos conhecimentos em prática no meu trabalho e nos meus projetos pessoais."
      ],
      "metadata": {
        "id": "iBCxndlbI9nh"
      }
    }
  ]
}